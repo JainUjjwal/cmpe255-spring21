{
 "cells": [
  {
   "cell_type": "code",
   "execution_count": 105,
   "id": "tracked-thought",
   "metadata": {},
   "outputs": [],
   "source": [
    "import numpy as np\n",
    "import os\n",
    "\n",
    "np.random.seed(42)\n",
    "\n",
    "# To plot pretty figures\n",
    "import matplotlib as mpl\n",
    "import matplotlib.pyplot as plt\n",
    "%matplotlib inline\n",
    "mpl.rc('axes', labelsize=14)\n",
    "mpl.rc('xtick', labelsize=12)\n",
    "mpl.rc('ytick', labelsize=12)\n"
   ]
  },
  {
   "cell_type": "code",
   "execution_count": 106,
   "id": "supported-sucking",
   "metadata": {},
   "outputs": [],
   "source": [
    "from sklearn.linear_model import SGDClassifier\n",
    "from sklearn.datasets import fetch_openml\n",
    "from sklearn.neighbors import KNeighborsClassifier\n",
    "from sklearn.metrics import accuracy_score\n",
    "from sklearn.model_selection import train_test_split\n",
    "from sklearn.model_selection import cross_val_predict\n",
    "from sklearn.metrics import confusion_matrix"
   ]
  },
  {
   "cell_type": "code",
   "execution_count": 107,
   "id": "demographic-howard",
   "metadata": {},
   "outputs": [],
   "source": [
    "def random_digit():\n",
    "    some_digit = X[36000]\n",
    "    some_digit_image = some_digit.reshape(28, 28)\n",
    "    plt.imshow(some_digit_image, cmap = mpl.cm.binary,\n",
    "            interpolation=\"nearest\")\n",
    "    plt.axis(\"off\")\n",
    "    plt.show()\n"
   ]
  },
  {
   "cell_type": "code",
   "execution_count": 108,
   "id": "advance-fleece",
   "metadata": {},
   "outputs": [],
   "source": [
    "def load_data():\n",
    "    mnist = fetch_openml('mnist_784', version=1, cache=True)\n",
    "    mnist.target = mnist.target.astype(np.int8) # fetch_openml() returns targets as strings\n",
    "    return mnist"
   ]
  },
  {
   "cell_type": "code",
   "execution_count": 109,
   "id": "amber-diversity",
   "metadata": {},
   "outputs": [],
   "source": [
    "mnist = load_data()\n",
    "X = mnist.data.to_numpy()\n",
    "y = mnist.target.to_numpy()\n",
    "X_train, X_test, y_train, y_test = train_test_split( X, y, test_size=0.10, random_state=42)"
   ]
  },
  {
   "cell_type": "code",
   "execution_count": 110,
   "id": "extended-jamaica",
   "metadata": {
    "scrolled": true
   },
   "outputs": [
    {
     "data": {
      "image/png": "[encoded data removed]",
      "text/plain": [
       "<Figure size 432x288 with 1 Axes>"
      ]
     },
     "metadata": {
      "needs_background": "light"
     },
     "output_type": "display_data"
    }
   ],
   "source": [
    "random_digit()"
   ]
  },
  {
   "cell_type": "code",
   "execution_count": 111,
   "id": "effective-leave",
   "metadata": {},
   "outputs": [],
   "source": [
    "def create_new_y(dataset):\n",
    "    new_y_data = []\n",
    "    for i in dataset:\n",
    "        if i==5:\n",
    "            new_y_data.append(True)\n",
    "        else:\n",
    "            new_y_data.append(False)   \n",
    "    return new_y_data\n",
    "    \n",
    "new_y_train = create_new_y(y_train)\n",
    "new_y_test = create_new_y(y_test)"
   ]
  },
  {
   "cell_type": "code",
   "execution_count": 112,
   "id": "global-baker",
   "metadata": {},
   "outputs": [],
   "source": [
    "def SGDModel(x,y):\n",
    "    clf = SGDClassifier(max_iter=1000, tol=1e-3)\n",
    "    clf.fit(x, y)\n",
    "    return clf\n",
    "    \n",
    "def getAccuracy(clf,x_test,y_test):\n",
    "    pered = clf.predict(x_test)\n",
    "    return accuracy_score(y_test,pered)\n",
    "    \n",
    "def KNNmodel(x,y):\n",
    "    knn=KNeighborsClassifier(n_neighbors=3)\n",
    "    knn.fit(x,y)\n",
    "    return knn"
   ]
  },
  {
   "cell_type": "code",
   "execution_count": 113,
   "id": "residential-beast",
   "metadata": {},
   "outputs": [
    {
     "data": {
      "text/plain": [
       "0.9684285714285714"
      ]
     },
     "execution_count": 113,
     "metadata": {},
     "output_type": "execute_result"
    }
   ],
   "source": [
    "clf = SGDModel(X_train, new_y_train)\n",
    "SGDC_accuracy = getAccuracy(clf, X_test, new_y_test)\n",
    "SGDC_accuracy"
   ]
  },
  {
   "cell_type": "markdown",
   "id": "separate-beauty",
   "metadata": {},
   "source": [
    "### SGDClassifier Accuracy = 0.9671428571428572"
   ]
  },
  {
   "cell_type": "code",
   "execution_count": 114,
   "id": "automatic-frost",
   "metadata": {},
   "outputs": [
    {
     "data": {
      "text/plain": [
       "0.9952857142857143"
      ]
     },
     "execution_count": 114,
     "metadata": {},
     "output_type": "execute_result"
    }
   ],
   "source": [
    "knn = KNNmodel(X_train, new_y_train)\n",
    "KNN_accuracy = getAccuracy(knn, X_test, new_y_test)\n",
    "KNN_accuracy"
   ]
  },
  {
   "cell_type": "markdown",
   "id": "compatible-glass",
   "metadata": {},
   "source": [
    "### KNN Accuracy = 0.9952857142857143"
   ]
  },
  {
   "cell_type": "code",
   "execution_count": 125,
   "id": "south-world",
   "metadata": {},
   "outputs": [],
   "source": [
    "def crossVal():\n",
    "    y_test_pred = cross_val_predict(knn, X_test, new_y_test, cv=3)\n",
    "    return confusion_matrix(new_y_test,y_test_pred)"
   ]
  },
  {
   "cell_type": "code",
   "execution_count": 127,
   "id": "prescription-alignment",
   "metadata": {},
   "outputs": [
    {
     "name": "stdout",
     "output_type": "stream",
     "text": [
      "[[6303   39]\n",
      " [  63  595]]\n"
     ]
    }
   ],
   "source": [
    "confusionMatrix = crossVal()\n",
    "print(confusionMatrix)"
   ]
  },
  {
   "cell_type": "code",
   "execution_count": 115,
   "id": "statistical-crash",
   "metadata": {},
   "outputs": [
    {
     "data": {
      "text/plain": [
       "<matplotlib.image.AxesImage at 0x2511f2fee80>"
      ]
     },
     "execution_count": 115,
     "metadata": {},
     "output_type": "execute_result"
    },
    {
     "data": {
      "image/png": "[encoded data removed]",
      "text/plain": [
       "<Figure size 432x288 with 1 Axes>"
      ]
     },
     "metadata": {
      "needs_background": "light"
     },
     "output_type": "display_data"
    }
   ],
   "source": [
    "plt.imshow(X_test[1222].reshape(28,28))"
   ]
  },
  {
   "cell_type": "code",
   "execution_count": 116,
   "id": "proper-vanilla",
   "metadata": {
    "scrolled": true
   },
   "outputs": [
    {
     "data": {
      "text/plain": [
       "1"
      ]
     },
     "execution_count": 116,
     "metadata": {},
     "output_type": "execute_result"
    }
   ],
   "source": [
    "y_test[1222]"
   ]
  },
  {
   "cell_type": "code",
   "execution_count": null,
   "id": "available-reggae",
   "metadata": {},
   "outputs": [],
   "source": []
  }
 ],
 "metadata": {
  "kernelspec": {
   "display_name": "Python 3",
   "language": "python",
   "name": "python3"
  },
  "language_info": {
   "codemirror_mode": {
    "name": "ipython",
    "version": 3
   },
   "file_extension": ".py",
   "mimetype": "text/x-python",
   "name": "python",
   "nbconvert_exporter": "python",
   "pygments_lexer": "ipython3",
   "version": "3.9.1"
  }
 },
 "nbformat": 4,
 "nbformat_minor": 5
}
